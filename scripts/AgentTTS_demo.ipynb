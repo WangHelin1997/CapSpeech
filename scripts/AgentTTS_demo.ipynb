{
  "cells": [
    {
      "cell_type": "markdown",
      "metadata": {
        "id": "SY7-HCglW6_f"
      },
      "source": [
        "# 🚀 AgentTTS Demo\n",
        "\n"
      ]
    },
    {
      "cell_type": "markdown",
      "metadata": {
        "id": "x5P1WtqGZOS6"
      },
      "source": [
        "## 🔥 Step 1: Install packages"
      ]
    },
    {
      "cell_type": "code",
      "execution_count": null,
      "metadata": {
        "colab": {
          "base_uri": "https://localhost:8080/"
        },
        "collapsed": true,
        "id": "fkwTsFaTUsLY",
        "outputId": "d6c62a79-6f23-47ee-ad3c-e81ef3b4506e"
      },
      "outputs": [],
      "source": [
        "# Python 3.10\n",
        "# pip install git+https://github.com/WangHelin1997/CapSpeech.git"
      ]
    },
    {
      "cell_type": "markdown",
      "metadata": {
        "id": "dXVJCdw9XK5l"
      },
      "source": [
        "## 🔥 Step 2: Load packages"
      ]
    },
    {
      "cell_type": "code",
      "execution_count": null,
      "metadata": {
        "colab": {
          "base_uri": "https://localhost:8080/",
          "height": 356
        },
        "id": "EmTefGOGWGAe",
        "outputId": "8c153e06-c116-46be-b65a-e5a603e444c1"
      },
      "outputs": [],
      "source": [
        "import torch\n",
        "import capspeech.nar.generate as nar\n",
        "from transformers import AutoTokenizer, set_seed\n",
        "import soundfile as sf\n",
        "import time\n",
        "import os\n",
        "from huggingface_hub import snapshot_download\n",
        "import argparse\n",
        "from IPython.display import Audio, display\n",
        "\n",
        "device = \"cuda:0\" if torch.cuda.is_available() else \"cpu\"\n",
        "print(f\"Device: {device}\")\n",
        "nar.seed_everything(42) # change to your favorite seed"
      ]
    },
    {
      "cell_type": "markdown",
      "metadata": {
        "id": "iBoJSqjNYQMX"
      },
      "source": [
        "## 🔥 Step 3: Customize your input"
      ]
    },
    {
      "cell_type": "code",
      "execution_count": null,
      "metadata": {
        "id": "coReLIsAXVEN"
      },
      "outputs": [],
      "source": [
        "# You can change to any duration you want\n",
        "duration = None \n",
        "# Change to your transcript\n",
        "transcript = \"The intricate patterns and vibrant colors of each quilt showcase the love and dedication poured into every stitch.\" \n",
        "# Change to your style caption\n",
        "caption = \"Sincere and soft-spoken voice filled with kindness and compassion.\" "
      ]
    },
    {
      "cell_type": "markdown",
      "metadata": {
        "id": "ycCVln-nYzCA"
      },
      "source": [
        "## 🔥 Step 4: Generate\n",
        "\n",
        "⏳ The first run may take some time as it needs to download the pretrained checkpoints."
      ]
    },
    {
      "cell_type": "code",
      "execution_count": null,
      "metadata": {
        "colab": {
          "base_uri": "https://localhost:8080/",
          "height": 176
        },
        "id": "nkM8uzP1WHmg",
        "outputId": "31da19c7-148c-450e-8454-4edba6a9d295"
      },
      "outputs": [],
      "source": [
        "model_list = nar.load_model(device, \"AgentTTS\")\n",
        "audio_arr = nar.run(model_list, device, duration, transcript, caption)\n",
        "Audio(audio_arr, rate=24000)"
      ]
    }
  ],
  "metadata": {
    "accelerator": "GPU",
    "colab": {
      "gpuType": "T4",
      "provenance": []
    },
    "kernelspec": {
      "display_name": "Python 3 (ipykernel)",
      "language": "python",
      "name": "python3"
    },
    "language_info": {
      "codemirror_mode": {
        "name": "ipython",
        "version": 3
      },
      "file_extension": ".py",
      "mimetype": "text/x-python",
      "name": "python",
      "nbconvert_exporter": "python",
      "pygments_lexer": "ipython3",
      "version": "3.10.17"
    }
  },
  "nbformat": 4,
  "nbformat_minor": 0
}
